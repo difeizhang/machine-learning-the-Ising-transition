{
 "cells": [
  {
   "cell_type": "code",
   "execution_count": null,
   "id": "524bce9f-be0f-4885-ab47-bff353f39a39",
   "metadata": {},
   "outputs": [],
   "source": [
    "import numpy as np\n",
    "from numpy.random import rand\n",
    "import numba\n",
    "import time\n",
    "import os\n",
    "import matplotlib.pyplot as plt\n",
    "from tqdm import tqdm"
   ]
  },
  {
   "cell_type": "code",
   "execution_count": null,
   "id": "8d84de19-7ffa-4fb0-b09e-d61d304b1295",
   "metadata": {},
   "outputs": [],
   "source": [
    "L = 4 # length of the lattice\n",
    "dim = 2 # dimension of the lattice\n",
    "cold = True # cold start or hot start\n",
    "\n",
    "T_min, T_max = 0.1, 5.1\n",
    "dT = 0.1\n",
    "nt = 1 + np.int64(np.round(np.round((T_max-T_min) / dT)))\n",
    "T = np.linspace(T_min, T_max, nt)\n",
    "\n",
    "eqSteps = 10**5 # mixing time\n",
    "mcSteps = 10**6 # MC steps = number of samples\n",
    "sampling_interval = 10 # sampling interval\n",
    "\n",
    "N = L**dim # number of spins"
   ]
  },
  {
   "cell_type": "code",
   "execution_count": null,
   "id": "bdd9ee16-2fac-431a-acf3-ba3d5a8a493c",
   "metadata": {},
   "outputs": [],
   "source": [
    "save_folder = f\"./data/L={L}_Tmin={np.round(T_min,1)}_Tmax={np.round(T_max,1)}_eqSteps={eqSteps}_mcSteps={mcSteps}_interval={sampling_interval}/state/raw\"\n",
    "os.makedirs(save_folder, exist_ok=True)"
   ]
  },
  {
   "cell_type": "code",
   "execution_count": null,
   "id": "bb479850-41ab-45e3-bbd7-6c07f5285ed0",
   "metadata": {},
   "outputs": [],
   "source": [
    "def ArrayToString(arr):\n",
    "    int_arr = arr.astype(int) # Convert the array to an integer array\n",
    "    str_arr = ''.join(str(i) for i in int_arr) # Convert the integer array to a string\n",
    "    return str_arr\n",
    "\n",
    "def SpinToBinary(IsingData):\n",
    "    return (IsingData + 1) // 2\n",
    "\n",
    "def BinaryToSpin(BernoulliData):\n",
    "    return BernoulliData * 2 - 1\n",
    "\n",
    "def initialstate(L): # -1 = spin down, 1 = spin up\n",
    "    state = -np.ones((L,L)) # all spin down\n",
    "    return state\n",
    "\n",
    "@numba.jit(nopython=True)\n",
    "def mcmove(config, beta):\n",
    "    range_i = np.arange(0, L)\n",
    "    range_j = np.arange(0, L)\n",
    "    np.random.shuffle(range_i)\n",
    "    np.random.shuffle(range_j)\n",
    "    for i in range_i:\n",
    "        for j in range_j:\n",
    "            s = config[i, j]\n",
    "            nb = config[(i+1) % L, j] + config[i, (j+1) % L] + config[(i-1) % L, j] + config[i, (j-1) % L]\n",
    "            cost = 2*s*nb\n",
    "            if cost < 0:\n",
    "                s *= -1\n",
    "            elif rand() < np.exp(-cost*beta):\n",
    "                s *= -1\n",
    "            config[i, j] = s\n",
    "    return config\n",
    "    \n",
    "@numba.jit(nopython=True)\n",
    "def calcEne(config):\n",
    "    energy = 0\n",
    "    for i in range(L):\n",
    "        for j in range(L):\n",
    "            S = config[i, j]\n",
    "            nb = config[(i+1) % L, j] + config[i, (j+1) % L] + config[(i-1) % L, j] + config[i, (j-1) % L]\n",
    "            energy += -nb*S\n",
    "    return energy/2.  # To compensate for over-counting\n",
    "\n",
    "@numba.jit(nopython=True)\n",
    "def calcMag(config):\n",
    "    # Magnetization of a given configuration\n",
    "    mag = np.sum(config)/N\n",
    "    return abs(mag)\n",
    "\n",
    "@numba.jit(nopython=True)\n",
    "def z2(config):\n",
    "    # Z2 symmetry of a given configuration\n",
    "    z2_mul = np.random.randint(0,2,(config.shape[0],1)) * 2 - 1\n",
    "    config *= z2_mul"
   ]
  },
  {
   "cell_type": "code",
   "execution_count": null,
   "id": "42180df0-534a-41d8-bee7-4aa8681c6cf1",
   "metadata": {},
   "outputs": [],
   "source": [
    "# ----------------------------main program------------------------------\n",
    "T_crit = 2/np.log(1+np.sqrt(2)) # critical temperature\n",
    "T = np.round(T, 2) \n",
    "\n",
    "def mcmc(idx=0):\n",
    "    os.makedirs(f\"{save_folder}/run={idx}\", exist_ok=True)\n",
    "    start = time.perf_counter()\n",
    "  \n",
    "    spin_config = initialstate(L) \n",
    "    configs_flatten = np.zeros((mcSteps, N)) \n",
    "    for tt in tqdm(range(nt)):\n",
    "        iT = 1.0/T[tt]\n",
    "        iT2 = iT*iT\n",
    "        for i in range(eqSteps):        \n",
    "            mcmove(spin_config, iT)\n",
    "        for i in range(mcSteps):        \n",
    "            for j in range(sampling_interval):\n",
    "                mcmove(spin_config, iT)\n",
    "            config_flatten = spin_config.flatten()\n",
    "            configs_flatten[i, :] = config_flatten\n",
    "        z2(configs_flatten) # apply z2 symmetry\n",
    "        np.save(f\"{save_folder}/run={idx}/T={T[tt]}.npy\",configs_flatten.astype(np.short))\n",
    "        \n",
    "    end = time.perf_counter()\n",
    "    elapsed = end - start\n",
    "    np.save(f\"{save_folder}/run={idx}/time.npy\", np.array([elapsed]))\n",
    "    return elapsed"
   ]
  },
  {
   "cell_type": "code",
   "execution_count": null,
   "id": "d4d783f6-0b70-469b-a5e8-98ad8d4250d4",
   "metadata": {},
   "outputs": [],
   "source": [
    "n = 5\n",
    "for idx in range(n):\n",
    "    elapsed = mcmc(idx)\n",
    "    print(f\"{idx} run elapsed: {elapsed} sec\")"
   ]
  }
 ],
 "metadata": {
  "kernelspec": {
   "display_name": "Python 3 (ipykernel)",
   "language": "python",
   "name": "python3"
  },
  "language_info": {
   "codemirror_mode": {
    "name": "ipython",
    "version": 3
   },
   "file_extension": ".py",
   "mimetype": "text/x-python",
   "name": "python",
   "nbconvert_exporter": "python",
   "pygments_lexer": "ipython3",
   "version": "3.10.14"
  }
 },
 "nbformat": 4,
 "nbformat_minor": 5
}
